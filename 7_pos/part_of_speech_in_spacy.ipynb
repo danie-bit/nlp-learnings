{
  "cells": [
    {
      "cell_type": "code",
      "execution_count": 1,
      "metadata": {
        "id": "jXvTaMSNOCqx"
      },
      "outputs": [],
      "source": [
        "import spacy"
      ]
    },
    {
      "cell_type": "markdown",
      "metadata": {
        "id": "ZF3yUwdBOCq0"
      },
      "source": [
        "<h3>POS tags</h3>"
      ]
    },
    {
      "cell_type": "code",
      "execution_count": 2,
      "metadata": {
        "scrolled": true,
        "id": "qgHXH1wUOCq2",
        "outputId": "7bfc0032-02a4-4f37-c986-563a342fe17e",
        "colab": {
          "base_uri": "https://localhost:8080/"
        }
      },
      "outputs": [
        {
          "output_type": "stream",
          "name": "stdout",
          "text": [
            "Elon  |  PROPN  |  proper noun\n",
            "flew  |  VERB  |  verb\n",
            "to  |  ADP  |  adposition\n",
            "mars  |  NOUN  |  noun\n",
            "yesterday  |  NOUN  |  noun\n",
            ".  |  PUNCT  |  punctuation\n",
            "He  |  PRON  |  pronoun\n",
            "carried  |  VERB  |  verb\n",
            "biryani  |  ADJ  |  adjective\n",
            "masala  |  NOUN  |  noun\n",
            "with  |  ADP  |  adposition\n",
            "him  |  PRON  |  pronoun\n"
          ]
        }
      ],
      "source": [
        "nlp = spacy.load(\"en_core_web_sm\")\n",
        "doc = nlp(\"Elon flew to mars yesterday. He carried biryani masala with him\")\n",
        "\n",
        "for token in doc:\n",
        "    print(token,\" | \", token.pos_, \" | \", spacy.explain(token.pos_))"
      ]
    },
    {
      "cell_type": "markdown",
      "metadata": {
        "id": "PcZtrpBwOCq3"
      },
      "source": [
        "You can check https://v2.spacy.io/api/annotation for the complete list of pos categories in spacy.\n",
        "\n",
        "https://en.wikipedia.org/wiki/Preposition_and_postposition\n",
        "\n",
        "https://en.wikipedia.org/wiki/Part_of_speech"
      ]
    },
    {
      "cell_type": "code",
      "execution_count": 3,
      "metadata": {
        "id": "WTdk-TilOCq4",
        "outputId": "397b502b-2821-41c1-c82c-dd4db8c52159",
        "colab": {
          "base_uri": "https://localhost:8080/"
        }
      },
      "outputs": [
        {
          "output_type": "stream",
          "name": "stdout",
          "text": [
            "Wow  |  INTJ  |  interjection\n",
            "!  |  PUNCT  |  punctuation\n",
            "Dr.  |  PROPN  |  proper noun\n",
            "Strange  |  PROPN  |  proper noun\n",
            "made  |  VERB  |  verb\n",
            "265  |  NUM  |  numeral\n",
            "million  |  NUM  |  numeral\n",
            "$  |  NUM  |  numeral\n",
            "on  |  ADP  |  adposition\n",
            "the  |  DET  |  determiner\n",
            "very  |  ADV  |  adverb\n",
            "first  |  ADJ  |  adjective\n",
            "day  |  NOUN  |  noun\n"
          ]
        }
      ],
      "source": [
        "doc = nlp(\"Wow! Dr. Strange made 265 million $ on the very first day\")\n",
        "\n",
        "for token in doc:\n",
        "    print(token,\" | \", token.pos_, \" | \", spacy.explain(token.pos_))"
      ]
    },
    {
      "cell_type": "markdown",
      "metadata": {
        "id": "DwMNJowLOCq4"
      },
      "source": [
        "<h3>Tags</h3>"
      ]
    },
    {
      "cell_type": "code",
      "execution_count": 4,
      "metadata": {
        "id": "PwzidGR9OCq5",
        "outputId": "0164ae78-7741-4c3c-b9e2-8dacc486111d",
        "colab": {
          "base_uri": "https://localhost:8080/"
        }
      },
      "outputs": [
        {
          "output_type": "stream",
          "name": "stdout",
          "text": [
            "Wow  |  INTJ  |  interjection  |  UH  |  interjection\n",
            "!  |  PUNCT  |  punctuation  |  .  |  punctuation mark, sentence closer\n",
            "Dr.  |  PROPN  |  proper noun  |  NNP  |  noun, proper singular\n",
            "Strange  |  PROPN  |  proper noun  |  NNP  |  noun, proper singular\n",
            "made  |  VERB  |  verb  |  VBD  |  verb, past tense\n",
            "265  |  NUM  |  numeral  |  CD  |  cardinal number\n",
            "million  |  NUM  |  numeral  |  CD  |  cardinal number\n",
            "$  |  NUM  |  numeral  |  CD  |  cardinal number\n",
            "on  |  ADP  |  adposition  |  IN  |  conjunction, subordinating or preposition\n",
            "the  |  DET  |  determiner  |  DT  |  determiner\n",
            "very  |  ADV  |  adverb  |  RB  |  adverb\n",
            "first  |  ADJ  |  adjective  |  JJ  |  adjective (English), other noun-modifier (Chinese)\n",
            "day  |  NOUN  |  noun  |  NN  |  noun, singular or mass\n"
          ]
        }
      ],
      "source": [
        "doc = nlp(\"Wow! Dr. Strange made 265 million $ on the very first day\")\n",
        "\n",
        "for token in doc:\n",
        "    print(token,\" | \", token.pos_, \" | \", spacy.explain(token.pos_), \" | \", token.tag_, \" | \", spacy.explain(token.tag_))"
      ]
    },
    {
      "cell_type": "markdown",
      "metadata": {
        "id": "_atnbBKsOCq5"
      },
      "source": [
        "<h3>In below sentences Spacy figures out the past vs present tense for quit </h3>"
      ]
    },
    {
      "cell_type": "code",
      "execution_count": 5,
      "metadata": {
        "id": "rXRb0-IJOCq5",
        "outputId": "14e3b8ff-20b4-49eb-b312-c46cf37660bb",
        "colab": {
          "base_uri": "https://localhost:8080/"
        }
      },
      "outputs": [
        {
          "output_type": "stream",
          "name": "stdout",
          "text": [
            "quits | VBZ | verb, 3rd person singular present\n"
          ]
        }
      ],
      "source": [
        "doc = nlp(\"He quits the job\")\n",
        "\n",
        "print(doc[1].text, \"|\", doc[1].tag_, \"|\", spacy.explain(doc[1].tag_))"
      ]
    },
    {
      "cell_type": "code",
      "execution_count": 6,
      "metadata": {
        "scrolled": true,
        "id": "oii5uXmFOCq6",
        "outputId": "185703f8-b422-4171-daa6-70ef65ad5b3f",
        "colab": {
          "base_uri": "https://localhost:8080/"
        }
      },
      "outputs": [
        {
          "output_type": "stream",
          "name": "stdout",
          "text": [
            "quit | VBD | verb, past tense\n"
          ]
        }
      ],
      "source": [
        "doc = nlp(\"he quit the job\")\n",
        "\n",
        "print(doc[1].text, \"|\", doc[1].tag_, \"|\", spacy.explain(doc[1].tag_))"
      ]
    },
    {
      "cell_type": "markdown",
      "metadata": {
        "id": "jq4PyTCDOCq6"
      },
      "source": [
        "<h3>Removing all SPACE, PUNCT and X token from text</h3>"
      ]
    },
    {
      "cell_type": "markdown",
      "metadata": {
        "id": "K8d3Kh7LOCq6"
      },
      "source": [
        "Processing microsoft's earning report: https://www.microsoft.com/en-us/investor/earnings/fy-2022-q2/press-release-webcast"
      ]
    },
    {
      "cell_type": "code",
      "execution_count": 7,
      "metadata": {
        "scrolled": false,
        "id": "zwo5hgFIOCq6"
      },
      "outputs": [],
      "source": [
        "earnings_text=\"\"\"Microsoft Corp. today announced the following results for the quarter ended December 31, 2021, as compared to the corresponding period of last fiscal year:\n",
        "\n",
        "·         Revenue was $51.7 billion and increased 20%\n",
        "·         Operating income was $22.2 billion and increased 24%\n",
        "·         Net income was $18.8 billion and increased 21%\n",
        "·         Diluted earnings per share was $2.48 and increased 22%\n",
        "“Digital technology is the most malleable resource at the world’s disposal to overcome constraints and reimagine everyday work and life,” said Satya Nadella, chairman and chief executive officer of Microsoft. “As tech as a percentage of global GDP continues to increase, we are innovating and investing across diverse and growing markets, with a common underlying technology stack and an operating model that reinforces a common strategy, culture, and sense of purpose.”\n",
        "“Solid commercial execution, represented by strong bookings growth driven by long-term Azure commitments, increased Microsoft Cloud revenue to $22.1 billion, up 32% year over year” said Amy Hood, executive vice president and chief financial officer of Microsoft.\"\"\"\n",
        "\n",
        "doc = nlp(earnings_text)\n",
        "\n",
        "filtered_tokens = []\n",
        "\n",
        "for token in doc:\n",
        "    if token.pos_ not in [\"SPACE\", \"PUNCT\", \"X\"]:\n",
        "        filtered_tokens.append(token)"
      ]
    },
    {
      "cell_type": "code",
      "execution_count": 10,
      "metadata": {
        "scrolled": false,
        "id": "vjP3l13KOCq7",
        "outputId": "8afd6def-4324-4c09-feb0-4e0f3e7f136c",
        "colab": {
          "base_uri": "https://localhost:8080/"
        }
      },
      "outputs": [
        {
          "output_type": "execute_result",
          "data": {
            "text/plain": [
              "[Microsoft,\n",
              " Corp.,\n",
              " today,\n",
              " announced,\n",
              " the,\n",
              " following,\n",
              " results,\n",
              " for,\n",
              " the,\n",
              " quarter,\n",
              " ended,\n",
              " December,\n",
              " 31,\n",
              " 2021,\n",
              " as,\n",
              " compared,\n",
              " to,\n",
              " the,\n",
              " corresponding,\n",
              " period,\n",
              " of,\n",
              " last,\n",
              " fiscal,\n",
              " year,\n",
              " Revenue,\n",
              " was,\n",
              " $,\n",
              " 51.7,\n",
              " billion,\n",
              " and]"
            ]
          },
          "metadata": {},
          "execution_count": 10
        }
      ],
      "source": [
        "filtered_tokens[:30]"
      ]
    },
    {
      "cell_type": "code",
      "execution_count": 12,
      "metadata": {
        "id": "bT7lTd9jOCq7",
        "outputId": "4b68d754-6bee-4405-8c68-2e37198b60ca",
        "colab": {
          "base_uri": "https://localhost:8080/"
        }
      },
      "outputs": [
        {
          "output_type": "execute_result",
          "data": {
            "text/plain": [
              "{96: 15,\n",
              " 92: 45,\n",
              " 100: 23,\n",
              " 90: 9,\n",
              " 85: 16,\n",
              " 93: 16,\n",
              " 97: 27,\n",
              " 98: 1,\n",
              " 84: 20,\n",
              " 103: 10,\n",
              " 87: 6,\n",
              " 99: 5,\n",
              " 89: 12,\n",
              " 86: 3,\n",
              " 94: 3,\n",
              " 95: 2}"
            ]
          },
          "metadata": {},
          "execution_count": 12
        }
      ],
      "source": [
        "count = doc.count_by(spacy.attrs.POS)\n",
        "count"
      ]
    },
    {
      "cell_type": "code",
      "execution_count": 13,
      "metadata": {
        "id": "HpiHcrB7OCq7",
        "outputId": "00ce8530-3b3e-441b-8bc3-c194ca0f07e8",
        "colab": {
          "base_uri": "https://localhost:8080/",
          "height": 36
        }
      },
      "outputs": [
        {
          "output_type": "execute_result",
          "data": {
            "text/plain": [
              "'PROPN'"
            ],
            "application/vnd.google.colaboratory.intrinsic+json": {
              "type": "string"
            }
          },
          "metadata": {},
          "execution_count": 13
        }
      ],
      "source": [
        "doc.vocab[96].text"
      ]
    },
    {
      "cell_type": "code",
      "execution_count": 14,
      "metadata": {
        "id": "Or4LS46WOCq7",
        "outputId": "f4418eae-65c4-45f9-a67f-7ec23b61d15c",
        "colab": {
          "base_uri": "https://localhost:8080/"
        }
      },
      "outputs": [
        {
          "output_type": "stream",
          "name": "stdout",
          "text": [
            "PROPN | 15\n",
            "NOUN | 45\n",
            "VERB | 23\n",
            "DET | 9\n",
            "ADP | 16\n",
            "NUM | 16\n",
            "PUNCT | 27\n",
            "SCONJ | 1\n",
            "ADJ | 20\n",
            "SPACE | 10\n",
            "AUX | 6\n",
            "SYM | 5\n",
            "CCONJ | 12\n",
            "ADV | 3\n",
            "PART | 3\n",
            "PRON | 2\n"
          ]
        }
      ],
      "source": [
        "for k,v in count.items():\n",
        "    print(doc.vocab[k].text, \"|\",v)"
      ]
    },
    {
      "cell_type": "code",
      "source": [],
      "metadata": {
        "id": "4a3_uDvkRAZE"
      },
      "execution_count": null,
      "outputs": []
    }
  ],
  "metadata": {
    "kernelspec": {
      "display_name": "Python 3",
      "language": "python",
      "name": "python3"
    },
    "language_info": {
      "codemirror_mode": {
        "name": "ipython",
        "version": 3
      },
      "file_extension": ".py",
      "mimetype": "text/x-python",
      "name": "python",
      "nbconvert_exporter": "python",
      "pygments_lexer": "ipython3",
      "version": "3.8.5"
    },
    "colab": {
      "provenance": []
    }
  },
  "nbformat": 4,
  "nbformat_minor": 0
}