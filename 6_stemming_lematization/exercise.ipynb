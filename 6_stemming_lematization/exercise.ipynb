{
  "cells": [
    {
      "cell_type": "markdown",
      "metadata": {
        "id": "view-in-github",
        "colab_type": "text"
      },
      "source": [
        "<a href=\"https://colab.research.google.com/github/danie-bit/nlp-learnings/blob/main/6_stemming_lematization/exercise.ipynb\" target=\"_parent\"><img src=\"https://colab.research.google.com/assets/colab-badge.svg\" alt=\"Open In Colab\"/></a>"
      ]
    },
    {
      "cell_type": "markdown",
      "metadata": {
        "id": "-eWVL6QPtJqx"
      },
      "source": [
        "###                     **Stemming and Lemmatization: Exercises**"
      ]
    },
    {
      "cell_type": "markdown",
      "metadata": {
        "id": "v4WwB3CLGkFG"
      },
      "source": [
        "- **Run this cell to import all necessary packages**"
      ]
    },
    {
      "cell_type": "code",
      "execution_count": 1,
      "metadata": {
        "id": "fn0J_mWHtM57"
      },
      "outputs": [],
      "source": [
        "#let import necessary libraries and create the object\n",
        "\n",
        "#for nltk\n",
        "import nltk\n",
        "from nltk.stem import PorterStemmer\n",
        "stemmer = PorterStemmer()\n",
        "\n",
        "#downloading all neccessary packages related to nltk\n",
        "# nltk.download('all')\n",
        "\n",
        "\n",
        "#for spacy\n",
        "import spacy\n",
        "nlp = spacy.load(\"en_core_web_sm\")"
      ]
    },
    {
      "cell_type": "markdown",
      "metadata": {
        "id": "xCjMD77juhOm"
      },
      "source": [
        "**Exercise1:**\n",
        "- Convert these list of words into base form using Stemming and Lemmatization and observe the transformations\n",
        "- Write a short note on the words that have different base words using stemming and Lemmatization"
      ]
    },
    {
      "cell_type": "code",
      "execution_count": 8,
      "metadata": {
        "colab": {
          "base_uri": "https://localhost:8080/"
        },
        "id": "5Ytgw50jtM_h",
        "outputId": "4f1adc0c-c8b9-499b-a64f-9c0c497acba3"
      },
      "outputs": [
        {
          "output_type": "stream",
          "name": "stdout",
          "text": [
            "running | run\n",
            "painting | paint\n",
            "walking | walk\n",
            "dressing | dress\n",
            "likely | like\n",
            "children | children\n",
            "whom | whom\n",
            "good | good\n",
            "ate | ate\n",
            "fishing | fish\n"
          ]
        }
      ],
      "source": [
        "#using stemming in nltk\n",
        "lst_words = ['running', 'painting', 'walking', 'dressing', 'likely', 'children', 'whom', 'good', 'ate', 'fishing']\n",
        "\n",
        "for word in lst_words:\n",
        "    print(word,\"|\",stemmer.stem(word))"
      ]
    },
    {
      "cell_type": "code",
      "execution_count": 10,
      "metadata": {
        "colab": {
          "base_uri": "https://localhost:8080/"
        },
        "id": "uU7oPj0ftNCP",
        "outputId": "38989516-e69d-434c-8b72-725d012260bb"
      },
      "outputs": [
        {
          "output_type": "stream",
          "name": "stdout",
          "text": [
            "running | run\n",
            "painting | painting\n",
            "walking | walking\n",
            "dressing | dress\n",
            "likely | likely\n",
            "children | child\n",
            "whom | whom\n",
            "good | good\n",
            "ate | eat\n",
            "fishing | fish\n"
          ]
        }
      ],
      "source": [
        "#using lemmatization in spacy\n",
        "\n",
        "doc = nlp(\"running painting walking dressing likely children whom good ate fishing\")\n",
        "\n",
        "for token in doc:\n",
        "    print(token,\"|\",token.lemma_)"
      ]
    },
    {
      "cell_type": "markdown",
      "metadata": {
        "id": "CLjsQGjVye5W"
      },
      "source": [
        "**Exercise2:**\n",
        "\n",
        "- convert the given text into it's base form using both stemming and lemmatization"
      ]
    },
    {
      "cell_type": "code",
      "execution_count": 6,
      "metadata": {
        "id": "0weT7a9tygnk"
      },
      "outputs": [],
      "source": [
        "text = \"\"\"Latha is very multi talented girl.She is good at many skills like dancing, running, singing, playing.She also likes eating Pav Bhagi. she has a\n",
        "habit of fishing and swimming too.Besides all this, she is a wonderful at cooking too.\n",
        "\"\"\""
      ]
    },
    {
      "cell_type": "code",
      "execution_count": 14,
      "metadata": {
        "colab": {
          "base_uri": "https://localhost:8080/"
        },
        "id": "JP29y7cjygqa",
        "outputId": "1e9e2885-c3b2-4446-c606-6b2ad87649d7"
      },
      "outputs": [
        {
          "output_type": "stream",
          "name": "stdout",
          "text": [
            "latha is veri multi talent girl . she is good at mani skill like danc , run , sing , play . she also like eat pav bhagi . she ha a \n",
            " habit of fish and swim too . besid all thi , she is a wonder at cook too . \n",
            "\n"
          ]
        }
      ],
      "source": [
        "#using stemming in nltk\n",
        "\n",
        "\n",
        "#step1: Word tokenizing\n",
        "docs = nlp(text)\n",
        "\n",
        "#step2: getting the base form for each token using stemmer\n",
        "stems = []\n",
        "for word in docs :\n",
        "  # print(word,\"|\",stemmer.stem(word.text))\n",
        "  stems.append(stemmer.stem(word.text))\n",
        "\n",
        "#step3: joining all words in a list into string using 'join()'\n",
        "docs = ' '.join(stems)\n",
        "print(docs)"
      ]
    },
    {
      "cell_type": "code",
      "execution_count": 15,
      "metadata": {
        "colab": {
          "base_uri": "https://localhost:8080/"
        },
        "id": "hysIhJuxyg0B",
        "outputId": "cebe94bd-0e48-4d05-b5b5-627bbfab2420"
      },
      "outputs": [
        {
          "output_type": "stream",
          "name": "stdout",
          "text": [
            "Latha be very multi talented girl . she be good at many skill like dancing , running , singing , play . she also like eat Pav Bhagi . she have a \n",
            " habit of fishing and swim too . besides all this , she be a wonderful at cook too . \n",
            "\n"
          ]
        }
      ],
      "source": [
        "#using lemmatisation in spacy\n",
        "\n",
        "\n",
        "#step1: Creating the object for the given text\n",
        "docs = nlp(text)\n",
        "\n",
        "#step2: getting the base form for each token using spacy 'lemma_'\n",
        "stems = []\n",
        "for token in docs:\n",
        "  stems.append(token.lemma_)\n",
        "\n",
        "#step3: joining all words in a list into string using 'join()'\n",
        "docs = ' '.join(stems)\n",
        "print(docs)"
      ]
    },
    {
      "cell_type": "markdown",
      "metadata": {
        "id": "fUoDycx9GkFI"
      },
      "source": [
        "## [**Solution**](./stemming_and_lemmatization_solutions.ipynb)"
      ]
    }
  ],
  "metadata": {
    "colab": {
      "name": "Stemming and Lemmatization.ipynb",
      "provenance": [],
      "include_colab_link": true
    },
    "kernelspec": {
      "display_name": "Python 3 (ipykernel)",
      "language": "python",
      "name": "python3"
    },
    "language_info": {
      "codemirror_mode": {
        "name": "ipython",
        "version": 3
      },
      "file_extension": ".py",
      "mimetype": "text/x-python",
      "name": "python",
      "nbconvert_exporter": "python",
      "pygments_lexer": "ipython3",
      "version": "3.8.10"
    }
  },
  "nbformat": 4,
  "nbformat_minor": 0
}