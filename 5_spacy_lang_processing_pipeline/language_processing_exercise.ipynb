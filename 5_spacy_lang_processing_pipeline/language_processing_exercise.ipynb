{
  "cells": [
    {
      "cell_type": "markdown",
      "metadata": {
        "id": "view-in-github",
        "colab_type": "text"
      },
      "source": [
        "<a href=\"https://colab.research.google.com/github/danie-bit/nlp-learnings/blob/main/5_spacy_lang_processing_pipeline/language_processing_exercise.ipynb\" target=\"_parent\"><img src=\"https://colab.research.google.com/assets/colab-badge.svg\" alt=\"Open In Colab\"/></a>"
      ]
    },
    {
      "cell_type": "markdown",
      "metadata": {
        "id": "Yrci22GYhTQP"
      },
      "source": [
        "###                     **Spacy Language Processing Pipelines: Exercises**"
      ]
    },
    {
      "cell_type": "code",
      "execution_count": 1,
      "metadata": {
        "id": "YUMPkcohhgam"
      },
      "outputs": [],
      "source": [
        "#importing necessary libraries\n",
        "import spacy\n",
        "\n",
        "nlp = spacy.load(\"en_core_web_sm\")  #creating an object and loading the pre-trained model for \"English\""
      ]
    },
    {
      "cell_type": "markdown",
      "metadata": {
        "id": "hxtliEGIh4gS"
      },
      "source": [
        "#### **Excersie: 1**\n",
        "\n",
        "- Get all the proper nouns from a given text in a list and also count how many of them.\n",
        "- **Proper Noun** means a noun that names a particular person, place, or thing."
      ]
    },
    {
      "cell_type": "markdown",
      "source": [
        "## https://spacy.io/usage/linguistic-features"
      ],
      "metadata": {
        "id": "N_gne7UQ04cK"
      }
    },
    {
      "cell_type": "code",
      "execution_count": 2,
      "metadata": {
        "id": "lRGfbeEshFf-"
      },
      "outputs": [],
      "source": [
        "text = '''Ravi and Raju are the best friends from school days.They wanted to go for a world tour and\n",
        "visit famous cities like Paris, London, Dubai, Rome etc and also they called their another friend Mohan to take part of this world tour.\n",
        "They started their journey from Hyderabad and spent next 3 months travelling all the wonderful cities in the world and cherish a happy moments!\n",
        "'''\n",
        "\n",
        "#creating the nlp object\n",
        "doc = nlp(text)"
      ]
    },
    {
      "cell_type": "code",
      "source": [
        "for token in nlp(text):\n",
        "  print(token.pos_)"
      ],
      "metadata": {
        "id": "qsW5F9hu2iLt",
        "outputId": "5b237d25-ec0a-4607-8b51-82b64185d742",
        "colab": {
          "base_uri": "https://localhost:8080/"
        }
      },
      "execution_count": 5,
      "outputs": [
        {
          "output_type": "stream",
          "name": "stdout",
          "text": [
            "NOUN\n",
            "CCONJ\n",
            "PROPN\n",
            "AUX\n",
            "DET\n",
            "ADJ\n",
            "NOUN\n",
            "ADP\n",
            "NOUN\n",
            "NOUN\n",
            "PUNCT\n",
            "PRON\n",
            "VERB\n",
            "PART\n",
            "VERB\n",
            "ADP\n",
            "DET\n",
            "NOUN\n",
            "NOUN\n",
            "CCONJ\n",
            "SPACE\n",
            "VERB\n",
            "ADJ\n",
            "NOUN\n",
            "ADP\n",
            "PROPN\n",
            "PUNCT\n",
            "PROPN\n",
            "PUNCT\n",
            "PROPN\n",
            "PUNCT\n",
            "PROPN\n",
            "X\n",
            "CCONJ\n",
            "ADV\n",
            "PRON\n",
            "VERB\n",
            "PRON\n",
            "DET\n",
            "NOUN\n",
            "PROPN\n",
            "PART\n",
            "VERB\n",
            "NOUN\n",
            "ADP\n",
            "DET\n",
            "NOUN\n",
            "NOUN\n",
            "PUNCT\n",
            "SPACE\n",
            "PRON\n",
            "VERB\n",
            "PRON\n",
            "NOUN\n",
            "ADP\n",
            "PROPN\n",
            "CCONJ\n",
            "VERB\n",
            "ADJ\n",
            "NUM\n",
            "NOUN\n",
            "VERB\n",
            "DET\n",
            "DET\n",
            "ADJ\n",
            "NOUN\n",
            "ADP\n",
            "DET\n",
            "NOUN\n",
            "CCONJ\n",
            "VERB\n",
            "DET\n",
            "ADJ\n",
            "NOUN\n",
            "PUNCT\n",
            "SPACE\n"
          ]
        }
      ]
    },
    {
      "cell_type": "code",
      "source": [
        "props = []\n",
        "docs = nlp(text)\n",
        "for token in docs :\n",
        "  if token.pos_ == \"PROPN\":\n",
        "    props.append(token)\n",
        "props"
      ],
      "metadata": {
        "id": "J2hZfHyK1SOV",
        "outputId": "d0e99453-399b-42ff-a517-8d14ab773111",
        "colab": {
          "base_uri": "https://localhost:8080/"
        }
      },
      "execution_count": 3,
      "outputs": [
        {
          "output_type": "execute_result",
          "data": {
            "text/plain": [
              "[Raju, Paris, London, Dubai, Rome, Mohan, Hyderabad]"
            ]
          },
          "metadata": {},
          "execution_count": 3
        }
      ]
    },
    {
      "cell_type": "markdown",
      "metadata": {
        "id": "WfU6CRIWhFh8"
      },
      "source": [
        "**Expected Output**\n",
        "\n",
        "Proper Nouns:  [Raju, Paris, London, Dubai, Rome, Mohan, Hyderabad]\n",
        "\n",
        "Count:  7\n"
      ]
    },
    {
      "cell_type": "markdown",
      "metadata": {
        "id": "FUr2rnbYmdlv"
      },
      "source": [
        "#### **Excersie: 2**\n",
        "\n",
        "- Get all companies names from a given text and also the count of them.\n",
        "- **Hint**: Use the spacy **ner** functionality"
      ]
    },
    {
      "cell_type": "code",
      "execution_count": 6,
      "metadata": {
        "id": "LLf4xyGEmZ2P"
      },
      "outputs": [],
      "source": [
        "text = '''The Top 5 companies in USA are Tesla, Walmart, Amazon, Microsoft, Google and the top 5 companies in\n",
        "India are Infosys, Reliance, HDFC Bank, Hindustan Unilever and Bharti Airtel'''\n",
        "\n",
        "doc = nlp(text)"
      ]
    },
    {
      "cell_type": "code",
      "source": [
        "for token in doc.ents :\n",
        "  print(token.text, \"|\", token.label_,\"|\", spacy.explain(token.label_))"
      ],
      "metadata": {
        "id": "quGNbc9V4IhT",
        "outputId": "1614c39e-819e-4a6c-c981-bf910c231655",
        "colab": {
          "base_uri": "https://localhost:8080/"
        }
      },
      "execution_count": 10,
      "outputs": [
        {
          "output_type": "stream",
          "name": "stdout",
          "text": [
            "5 | CARDINAL | Numerals that do not fall under another type\n",
            "USA | GPE | Countries, cities, states\n",
            "Tesla | ORG | Companies, agencies, institutions, etc.\n",
            "Walmart | ORG | Companies, agencies, institutions, etc.\n",
            "Amazon | ORG | Companies, agencies, institutions, etc.\n",
            "Microsoft | ORG | Companies, agencies, institutions, etc.\n",
            "Google | ORG | Companies, agencies, institutions, etc.\n",
            "5 | CARDINAL | Numerals that do not fall under another type\n",
            "India | GPE | Countries, cities, states\n",
            "Infosys | ORG | Companies, agencies, institutions, etc.\n",
            "Reliance | ORG | Companies, agencies, institutions, etc.\n",
            "HDFC Bank | ORG | Companies, agencies, institutions, etc.\n",
            "Hindustan Unilever | ORG | Companies, agencies, institutions, etc.\n",
            "Bharti Airtel | ORG | Companies, agencies, institutions, etc.\n"
          ]
        }
      ]
    },
    {
      "cell_type": "code",
      "source": [
        "from spacy import displacy\n",
        "\n",
        "displacy.render(doc, style = \"ent\")"
      ],
      "metadata": {
        "id": "jbBybUi83ndt",
        "outputId": "0e2946c4-c5f8-47df-cf2f-659d3535faaa",
        "colab": {
          "base_uri": "https://localhost:8080/",
          "height": 87
        }
      },
      "execution_count": 8,
      "outputs": [
        {
          "output_type": "display_data",
          "data": {
            "text/plain": [
              "<IPython.core.display.HTML object>"
            ],
            "text/html": [
              "<span class=\"tex2jax_ignore\"><div class=\"entities\" style=\"line-height: 2.5; direction: ltr\">The Top \n",
              "<mark class=\"entity\" style=\"background: #e4e7d2; padding: 0.45em 0.6em; margin: 0 0.25em; line-height: 1; border-radius: 0.35em;\">\n",
              "    5\n",
              "    <span style=\"font-size: 0.8em; font-weight: bold; line-height: 1; border-radius: 0.35em; vertical-align: middle; margin-left: 0.5rem\">CARDINAL</span>\n",
              "</mark>\n",
              " companies in \n",
              "<mark class=\"entity\" style=\"background: #feca74; padding: 0.45em 0.6em; margin: 0 0.25em; line-height: 1; border-radius: 0.35em;\">\n",
              "    USA\n",
              "    <span style=\"font-size: 0.8em; font-weight: bold; line-height: 1; border-radius: 0.35em; vertical-align: middle; margin-left: 0.5rem\">GPE</span>\n",
              "</mark>\n",
              " are \n",
              "<mark class=\"entity\" style=\"background: #7aecec; padding: 0.45em 0.6em; margin: 0 0.25em; line-height: 1; border-radius: 0.35em;\">\n",
              "    Tesla\n",
              "    <span style=\"font-size: 0.8em; font-weight: bold; line-height: 1; border-radius: 0.35em; vertical-align: middle; margin-left: 0.5rem\">ORG</span>\n",
              "</mark>\n",
              ", \n",
              "<mark class=\"entity\" style=\"background: #7aecec; padding: 0.45em 0.6em; margin: 0 0.25em; line-height: 1; border-radius: 0.35em;\">\n",
              "    Walmart\n",
              "    <span style=\"font-size: 0.8em; font-weight: bold; line-height: 1; border-radius: 0.35em; vertical-align: middle; margin-left: 0.5rem\">ORG</span>\n",
              "</mark>\n",
              ", \n",
              "<mark class=\"entity\" style=\"background: #7aecec; padding: 0.45em 0.6em; margin: 0 0.25em; line-height: 1; border-radius: 0.35em;\">\n",
              "    Amazon\n",
              "    <span style=\"font-size: 0.8em; font-weight: bold; line-height: 1; border-radius: 0.35em; vertical-align: middle; margin-left: 0.5rem\">ORG</span>\n",
              "</mark>\n",
              ", \n",
              "<mark class=\"entity\" style=\"background: #7aecec; padding: 0.45em 0.6em; margin: 0 0.25em; line-height: 1; border-radius: 0.35em;\">\n",
              "    Microsoft\n",
              "    <span style=\"font-size: 0.8em; font-weight: bold; line-height: 1; border-radius: 0.35em; vertical-align: middle; margin-left: 0.5rem\">ORG</span>\n",
              "</mark>\n",
              ", \n",
              "<mark class=\"entity\" style=\"background: #7aecec; padding: 0.45em 0.6em; margin: 0 0.25em; line-height: 1; border-radius: 0.35em;\">\n",
              "    Google\n",
              "    <span style=\"font-size: 0.8em; font-weight: bold; line-height: 1; border-radius: 0.35em; vertical-align: middle; margin-left: 0.5rem\">ORG</span>\n",
              "</mark>\n",
              " and the top \n",
              "<mark class=\"entity\" style=\"background: #e4e7d2; padding: 0.45em 0.6em; margin: 0 0.25em; line-height: 1; border-radius: 0.35em;\">\n",
              "    5\n",
              "    <span style=\"font-size: 0.8em; font-weight: bold; line-height: 1; border-radius: 0.35em; vertical-align: middle; margin-left: 0.5rem\">CARDINAL</span>\n",
              "</mark>\n",
              " companies in <br>\n",
              "<mark class=\"entity\" style=\"background: #feca74; padding: 0.45em 0.6em; margin: 0 0.25em; line-height: 1; border-radius: 0.35em;\">\n",
              "    India\n",
              "    <span style=\"font-size: 0.8em; font-weight: bold; line-height: 1; border-radius: 0.35em; vertical-align: middle; margin-left: 0.5rem\">GPE</span>\n",
              "</mark>\n",
              " are \n",
              "<mark class=\"entity\" style=\"background: #7aecec; padding: 0.45em 0.6em; margin: 0 0.25em; line-height: 1; border-radius: 0.35em;\">\n",
              "    Infosys\n",
              "    <span style=\"font-size: 0.8em; font-weight: bold; line-height: 1; border-radius: 0.35em; vertical-align: middle; margin-left: 0.5rem\">ORG</span>\n",
              "</mark>\n",
              ", \n",
              "<mark class=\"entity\" style=\"background: #7aecec; padding: 0.45em 0.6em; margin: 0 0.25em; line-height: 1; border-radius: 0.35em;\">\n",
              "    Reliance\n",
              "    <span style=\"font-size: 0.8em; font-weight: bold; line-height: 1; border-radius: 0.35em; vertical-align: middle; margin-left: 0.5rem\">ORG</span>\n",
              "</mark>\n",
              ", \n",
              "<mark class=\"entity\" style=\"background: #7aecec; padding: 0.45em 0.6em; margin: 0 0.25em; line-height: 1; border-radius: 0.35em;\">\n",
              "    HDFC Bank\n",
              "    <span style=\"font-size: 0.8em; font-weight: bold; line-height: 1; border-radius: 0.35em; vertical-align: middle; margin-left: 0.5rem\">ORG</span>\n",
              "</mark>\n",
              ", \n",
              "<mark class=\"entity\" style=\"background: #7aecec; padding: 0.45em 0.6em; margin: 0 0.25em; line-height: 1; border-radius: 0.35em;\">\n",
              "    Hindustan Unilever\n",
              "    <span style=\"font-size: 0.8em; font-weight: bold; line-height: 1; border-radius: 0.35em; vertical-align: middle; margin-left: 0.5rem\">ORG</span>\n",
              "</mark>\n",
              " and \n",
              "<mark class=\"entity\" style=\"background: #7aecec; padding: 0.45em 0.6em; margin: 0 0.25em; line-height: 1; border-radius: 0.35em;\">\n",
              "    Bharti Airtel\n",
              "    <span style=\"font-size: 0.8em; font-weight: bold; line-height: 1; border-radius: 0.35em; vertical-align: middle; margin-left: 0.5rem\">ORG</span>\n",
              "</mark>\n",
              "</div></span>"
            ]
          },
          "metadata": {}
        }
      ]
    },
    {
      "cell_type": "code",
      "source": [
        "comps = []\n",
        "for token in doc.ents:\n",
        "  if token.label_ == \"ORG\":\n",
        "    comps.append(token.text)\n",
        "comps"
      ],
      "metadata": {
        "id": "G_HJVh1J3bdO",
        "outputId": "a5db96e5-c291-4b5d-e12c-0a56b7d60ae9",
        "colab": {
          "base_uri": "https://localhost:8080/"
        }
      },
      "execution_count": 7,
      "outputs": [
        {
          "output_type": "execute_result",
          "data": {
            "text/plain": [
              "['Tesla',\n",
              " 'Walmart',\n",
              " 'Amazon',\n",
              " 'Microsoft',\n",
              " 'Google',\n",
              " 'Infosys',\n",
              " 'Reliance',\n",
              " 'HDFC Bank',\n",
              " 'Hindustan Unilever',\n",
              " 'Bharti Airtel']"
            ]
          },
          "metadata": {},
          "execution_count": 7
        }
      ]
    },
    {
      "cell_type": "markdown",
      "metadata": {
        "id": "4JK5eMsCmZ5i"
      },
      "source": [
        "**Expected Output**\n",
        "\n",
        "\n",
        "Company Names:  [Tesla, Walmart, Amazon, Microsoft, Google, Infosys, Reliance, HDFC Bank, Hindustan Unilever, Bharti Airtel]\n",
        "\n",
        "Count:  10"
      ]
    },
    {
      "cell_type": "markdown",
      "metadata": {
        "id": "HkbNaNVChFoB"
      },
      "source": [
        "## [**Solution**](./language_processing_exercise_solutions.ipynb)"
      ]
    }
  ],
  "metadata": {
    "colab": {
      "name": "Language Processing_exercise.ipynb",
      "provenance": [],
      "include_colab_link": true
    },
    "kernelspec": {
      "display_name": "Python 3 (ipykernel)",
      "language": "python",
      "name": "python3"
    },
    "language_info": {
      "codemirror_mode": {
        "name": "ipython",
        "version": 3
      },
      "file_extension": ".py",
      "mimetype": "text/x-python",
      "name": "python",
      "nbconvert_exporter": "python",
      "pygments_lexer": "ipython3",
      "version": "3.8.10"
    }
  },
  "nbformat": 4,
  "nbformat_minor": 0
}